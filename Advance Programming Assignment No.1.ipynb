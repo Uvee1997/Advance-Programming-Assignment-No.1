{
 "cells": [
  {
   "cell_type": "markdown",
   "id": "e1b817aa",
   "metadata": {},
   "source": [
    "4) Write a function that takes a number and returns True if it's a prime; False\n",
    "   otherwise. The number can be 2^64-1 (2 to the power of 63, not XOR). With\n",
    "   the standard technique it would be O(2^64-1), which is much too large for the\n",
    "   10 second time limit."
   ]
  },
  {
   "cell_type": "code",
   "execution_count": 13,
   "id": "29afbe1c",
   "metadata": {},
   "outputs": [
    {
     "name": "stdout",
     "output_type": "stream",
     "text": [
      "False\n"
     ]
    }
   ],
   "source": [
    "\n",
    "def test_prime(n):\n",
    "    if (n==1):\n",
    "        return False\n",
    "    elif (n==2):\n",
    "        return True\n",
    "    else:\n",
    "        for x in range(2,n):\n",
    "            if(n % x==0):\n",
    "                return False\n",
    "        return True\n",
    "print(test_prime(10))    "
   ]
  },
  {
   "cell_type": "code",
   "execution_count": null,
   "id": "2ffad9ca",
   "metadata": {},
   "outputs": [],
   "source": []
  }
 ],
 "metadata": {
  "kernelspec": {
   "display_name": "Python 3 (ipykernel)",
   "language": "python",
   "name": "python3"
  },
  "language_info": {
   "codemirror_mode": {
    "name": "ipython",
    "version": 3
   },
   "file_extension": ".py",
   "mimetype": "text/x-python",
   "name": "python",
   "nbconvert_exporter": "python",
   "pygments_lexer": "ipython3",
   "version": "3.9.7"
  }
 },
 "nbformat": 4,
 "nbformat_minor": 5
}
